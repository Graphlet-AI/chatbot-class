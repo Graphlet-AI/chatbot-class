{
 "cells": [
  {
   "cell_type": "markdown",
   "id": "f147bce5-a953-4570-8b63-853051db1f60",
   "metadata": {},
   "source": [
    "# LangChain 101: Ruby on Rails for Generative AI\n",
    "\n",
    "LangChain is known as an easy way to produce chatbots, but is actually much more: an onramp to generative AI. LangChain is like [Ruby on Rails](https://en.wikipedia.org/wiki/Ruby_on_Rails) [which powered Web 2.0] for generative artificial intelligence.\n",
    "\n",
    "## LangChain 101: Retrieval Augmented Generation\n",
    "\n",
    "I am obsessed with _network motifs_ - statistically significant patterns called _graphlets_ that appear in _complex networks_.\n",
    "\n",
    "<br />\n",
    "<center>\n",
    "    <img src=\"../images/5-graphlets.png\" width=\"600px\" />\n",
    "</center>\n",
    "<br />\n",
    "<center>\n",
    "    <a href=\"https://www.nature.com/articles/s41598-020-69795-1\">Exploiting graphlet decomposition to explain the structure of complex networks: the GHuST framework</a>, Espejo et al., 2020.\n",
    "</center>\n",
    "\n"
   ]
  },
  {
   "cell_type": "code",
   "execution_count": null,
   "id": "f1436a01-68ee-4b35-b463-947c25efa56b",
   "metadata": {},
   "outputs": [],
   "source": []
  }
 ],
 "metadata": {
  "kernelspec": {
   "display_name": "Python 3 (ipykernel)",
   "language": "python",
   "name": "python3"
  },
  "language_info": {
   "codemirror_mode": {
    "name": "ipython",
    "version": 3
   },
   "file_extension": ".py",
   "mimetype": "text/x-python",
   "name": "python",
   "nbconvert_exporter": "python",
   "pygments_lexer": "ipython3",
   "version": "3.10.11"
  }
 },
 "nbformat": 4,
 "nbformat_minor": 5
}
