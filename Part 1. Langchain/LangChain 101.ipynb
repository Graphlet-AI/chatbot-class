{
 "cells": [
  {
   "cell_type": "markdown",
   "id": "f147bce5-a953-4570-8b63-853051db1f60",
   "metadata": {},
   "source": [
    "# LangChain 101: Ruby on Rails for Generative AI\n",
    "\n",
    "[LangChain](https://langchain.com/) is a popular chatbot and LLM library that efficiently connects many tools. It is known as an easy way to produce chatbots, but is actually much more: an **onramp** to generative AI. LangChain is like [Ruby on Rails](https://en.wikipedia.org/wiki/Ruby_on_Rails) [which powered Web 2.0] for generative artificial intelligence. It has enabled the rapid adoption of LLM technology across the web, startup ecosystem and in the modern enterprise [big companies!].\n",
    "\n",
    "#### Note: Credit to Ivan Reznikov\n",
    "\n",
    "This content is indebted to [Ivan Reznikov](https://linkedin.com/in/reznikovivan), who created a [LangChain 101 Course](https://pub.towardsai.net/langchain-101-part-1-building-simple-q-a-app-90d9c4e815f3) that is excellent.\n",
    "\n",
    "## Question & Answer (Q&A) using Retrieval Augmented Generation (RAG) with LangChain\n",
    "\n",
    "The most popular technique using large language models and LangChain is Retrieval Augmented Generation (RAG): indexing documents using a technique called _vector search_ and then retrieving parts of them relevant to a question, adding these document segments before the question's in a request, and submitting it to an LLM like [OpenAI](https://platform.openai.com/docs/introduction). **Talk is cheap**. We're going to start out by building a RAG engine using [ChromaDB](https://www.trychroma.com/) which is easy to get started with.\n",
    "\n",
    "#### Note: Because the simple, local version of Chroma can be more difficult to scale, we will be using OpenSearch via Docker to work with larger sets of documents."
   ]
  },
  {
   "cell_type": "code",
   "execution_count": 2,
   "id": "f1436a01-68ee-4b35-b463-947c25efa56b",
   "metadata": {},
   "outputs": [],
   "source": [
    "import logging\n",
    "import os\n",
    "from typing import Any, Dict, List, Optional, Type\n",
    "\n",
    "import chromadb\n",
    "from langchain.chains import ConversationalRetrievalChain\n",
    "from langchain.document_loaders import PyPDFDirectoryLoader\n",
    "from langchain.embeddings import CacheBackedEmbeddings, OpenAIEmbeddings\n",
    "from langchain.embeddings.base import Embeddings\n",
    "from langchain.llms import OpenAI\n",
    "from langchain.memory import ConversationBufferMemory\n",
    "from langchain.schema import Document\n",
    "from langchain.storage import LocalFileStore\n",
    "from langchain.vectorstores import Chroma"
   ]
  },
  {
   "cell_type": "markdown",
   "id": "4376bc70-fd1e-44fd-9235-1d470eef7844",
   "metadata": {},
   "source": [
    "### Q&A [nerding out] about Network Motifs\n",
    "\n",
    "I am obsessed with _network motifs_ - statistically significant patterns in _graphs_ (a graph in the real world is called a _network_) called _graphlets_ that appear in _complex networks_. You can see a simple and more complex heterogeneous, temporal network motif below.\n",
    "\n",
    "<br />\n",
    "<center>\n",
    "    <img src=\"../images/5-graphlets.png\" width=\"600px\" />\n",
    "</center>\n",
    "<br />\n",
    "<center>\n",
    "    <a href=\"https://www.nature.com/articles/s41598-020-69795-1\">Exploiting graphlet decomposition to explain the structure of complex networks: the GHuST framework</a>, Espejo et al., 2020\n",
    "</center>\n",
    "<br /><br />\n",
    "\n",
    "<center><img src=\"../images/temporal-motifs.png\" width=\"400px\" /></center>\n",
    "<br />\n",
    "<center><a href=\"https://snap.stanford.edu/temporal-motifs/\">Motifs in temporal networks</a>, Ashwin Paranjape, Austin R. Benson, and Jure Leskovec., 2017</center>\n",
    "<br />\n",
    "\n",
    "If you run the [`./download.sh`](download.sh) script in a terminal window, it will download a tarball of 25 network motif datasets and extract them into the `data/Network_Motifs/` folder. We will use ChromaDB to implement RAG over these systems before getting into a deeper explanation of what is going on and what is available in Langchain."
   ]
  },
  {
   "cell_type": "markdown",
   "id": "6550db5a-d5b2-4ce5-a69d-257e41246aa0",
   "metadata": {},
   "source": [
    "#### Load a copy of one of my Dropbox folders with academic papers"
   ]
  },
  {
   "cell_type": "code",
   "execution_count": 5,
   "id": "b689b58d-80af-41b2-a7d5-47eb493f0b74",
   "metadata": {},
   "outputs": [],
   "source": [
    "PAPER_FOLDER = f\"{os.getcwd()}/../data/Network_Motifs/\""
   ]
  },
  {
   "cell_type": "markdown",
   "id": "f49219c2-f55a-42e9-8fb8-d4e52cdd8d25",
   "metadata": {},
   "source": [
    "#### Verify papers directory"
   ]
  },
  {
   "cell_type": "code",
   "execution_count": 6,
   "id": "816b2c2d-6a75-4257-b95b-ffdc612eeaa4",
   "metadata": {},
   "outputs": [
    {
     "name": "stdout",
     "output_type": "stream",
     "text": [
      "You have 25 Network Motif PDFs in `/home/jovyan/work/Part 1. Langchain/../data/Network_Motifs/`.\n"
     ]
    }
   ],
   "source": [
    "paper_count = len(os.listdir(PAPER_FOLDER))\n",
    "print(f\"You have {paper_count:,} Network Motif PDFs in `{PAPER_FOLDER}`.\")"
   ]
  },
  {
   "cell_type": "markdown",
   "id": "e5484680-0de0-4fe2-b5c6-06b94f7ef241",
   "metadata": {},
   "source": [
    "#### Load our OpenAI key"
   ]
  },
  {
   "cell_type": "code",
   "execution_count": 7,
   "id": "fd6ffc70-d5bb-4899-8dbe-67c936add56c",
   "metadata": {},
   "outputs": [],
   "source": [
    "# Set in env/openai.env\n",
    "openai_api_key = os.environ.get(\"OPENAI_API_KEY\")\n",
    "if not openai_api_key:\n",
    "    raise ValueError(\"OPENAI_API_KEY environment variable not set\")"
   ]
  },
  {
   "cell_type": "markdown",
   "id": "f37dc558-acf6-4c50-8358-9e5748e80e26",
   "metadata": {},
   "source": [
    "#### Load all PDFs from academic paper folder"
   ]
  },
  {
   "cell_type": "code",
   "execution_count": 8,
   "id": "a8c8ef00-ef8e-46fe-a99b-c63fee39434b",
   "metadata": {},
   "outputs": [
    {
     "name": "stdout",
     "output_type": "stream",
     "text": [
      "You have 661 document segments in `/home/jovyan/work/Part 1. Langchain/../data/Network_Motifs/`.\n"
     ]
    }
   ],
   "source": [
    "loader = PyPDFDirectoryLoader(PAPER_FOLDER, silent_errors=True)\n",
    "docs = loader.load()\n",
    "print(f\"You have {len(docs)} document segments in `{PAPER_FOLDER}`.\")"
   ]
  },
  {
   "cell_type": "markdown",
   "id": "59239e32-c0b1-438f-bf42-bcd90c400b87",
   "metadata": {},
   "source": [
    "#### How many papers on network motifs?"
   ]
  },
  {
   "cell_type": "code",
   "execution_count": 9,
   "id": "32600afb-8c0a-4bce-ba3e-ba9ad382d8b9",
   "metadata": {},
   "outputs": [
    {
     "name": "stdout",
     "output_type": "stream",
     "text": [
      "You have 20 papers mentioning network motifs split across 321 document segments in `/home/jovyan/work/Part 1. Langchain/../data/Network_Motifs/`.\n"
     ]
    }
   ],
   "source": [
    "motif_docs = [doc for doc in docs if \"motif\" in doc.page_content]\n",
    "motif_doc_count = len(motif_docs)\n",
    "paper_count = len(set(doc.metadata[\"source\"] for doc in motif_docs))\n",
    "print(\n",
    "    f\"You have {paper_count} papers mentioning network motifs split across {motif_doc_count} document segments in `{PAPER_FOLDER}`.\"\n",
    ")"
   ]
  },
  {
   "cell_type": "markdown",
   "id": "0b6ddb76-e334-40e0-8790-4ccd841e2ea5",
   "metadata": {},
   "source": [
    "#### Embed them with OpenAI ada model and store them in OpenSearch"
   ]
  },
  {
   "cell_type": "code",
   "execution_count": 10,
   "id": "08a314ee-d2e7-46de-9032-28b4da22efbf",
   "metadata": {},
   "outputs": [],
   "source": [
    "embeddings = OpenAIEmbeddings()\n",
    "fs = LocalFileStore(\"./data/embedding_cache/\")\n",
    "cached_embedder = CacheBackedEmbeddings.from_bytes_store(\n",
    "    embeddings, fs, namespace=embeddings.model\n",
    ")"
   ]
  },
  {
   "cell_type": "markdown",
   "id": "0a9a02b0-13c5-4b15-9331-1330d9c05641",
   "metadata": {},
   "source": [
    "#### Load it into Chroma from our documents set"
   ]
  },
  {
   "cell_type": "code",
   "execution_count": 28,
   "id": "d6b808af-56b6-4b57-892d-c2a813f9ebb0",
   "metadata": {},
   "outputs": [],
   "source": [
    "db = Chroma.from_documents(docs, cached_embedder)"
   ]
  },
  {
   "cell_type": "markdown",
   "id": "0bd5f1bb-a821-40ab-b4d1-751d28908a81",
   "metadata": {},
   "source": [
    "### Similarity Search\n",
    "\n",
    "If our task is information retrieval - semantic search - returning documents related to the meaning of a text query, LangChain and ChromaDB have us covered."
   ]
  },
  {
   "cell_type": "markdown",
   "id": "c5a639d0-ba2c-42e4-b44c-8e0ecfa9c513",
   "metadata": {},
   "source": [
    "#### Let's retrieve documents similar to a question, a part of Q&A"
   ]
  },
  {
   "cell_type": "code",
   "execution_count": 31,
   "id": "dfc47329-6d89-4a2b-99f2-dc64844e777b",
   "metadata": {},
   "outputs": [
    {
     "data": {
      "text/plain": [
       "Document(page_content='8How do we findmodules of network motifs?', metadata={'page': 7, 'source': '/home/jovyan/work/Part 1. Langchain/../data/Network_Motifs/Higher-Order Organization of Complex Networks - Slides from 2016.pdf'})"
      ]
     },
     "execution_count": 31,
     "metadata": {},
     "output_type": "execute_result"
    }
   ],
   "source": [
    "query = \"What is a network motif?\"\n",
    "docs = db.similarity_search(query)\n",
    "docs[0]"
   ]
  },
  {
   "cell_type": "markdown",
   "id": "995214c4-01c4-4049-8e86-9d63be9f8403",
   "metadata": {},
   "source": [
    "#### Let's look for documents that talk about heterogeneous network motif computation complexity"
   ]
  },
  {
   "cell_type": "code",
   "execution_count": 34,
   "id": "f362f5e1-75cf-4979-a6e9-dce3cfb38cb8",
   "metadata": {},
   "outputs": [
    {
     "data": {
      "text/plain": [
       "Document(page_content='Heterogeneous Network Motifs\\ncontain significantly more information than untyped triangles. This\\nincludes not only information about the local properties but also\\nabout the global structure of the network as shown above. Obvi-\\nously, untyped network motifs are unable to provide such insights\\nas they do not encode the types, attribute values, or class labels\\nassociated with a network motif. They only reveal the structural\\ninformation independent of any important external information\\nassociated with the node.\\nWe also investigated typed 4-clique motifs. Strikingly, only 4 of\\nthe 5 typed 4-clique motifs that arise from 2types actually occur\\nin the graph. In particular, the typed 4-clique motif with 2 right\\nusers and 2 left users does not even appear in the graph. This typed\\nmotif might indicate collusion between individuals from different\\npolitical parties or some other extremely rare anomalous activity.\\nThe other typed 4-cliques that are extremely rare are the typed\\n4-clique motif with 3 right (left) users and a single left (right) user.\\n0 20 40 60 80\\nTyped Triangle Motifs00.050.10.150.2P(X)cora\\nActual\\nRandomized\\n0 20 40 60\\nTyped Triangle Motifs00.10.20.30.4P(X)citeseer\\nActual\\nRandomized\\nFigure 11: Comparing the actual typed triangle distribution\\nto the randomized typed triangle distribution. We compute\\n100 random permutations of the node types and run the\\napproach on each permutation then average the resulting\\ncounts to obtain the mean randomized typed triangle dis-\\ntribution. There are three key findings. First, we observe a\\nsignificant difference between the actual and randomized\\ntyped triangle distributions. Second, many of the typed tri-\\nangles that occur when the types are randomized, do not oc-\\ncur in the actual typed triangle distribution. Third, we find\\nthe typed triangle distribution to be skewed (approximately\\npower-lawed) as a few typed triangles occur very frequently\\nwhile the vast majority have very few occurrences.\\n7.6.2 Cora citation network. The Cora citation network consists\\nof 2708 scientific publications classified into one of seven types\\n(class labels) that indicate the paper topic. The citation network\\nconsists of 5429 links. Using the proposed heterogeneous motifs, we\\nfind 129 typed 3-node motifs among the 168 possible typed 3-node\\nmotifs that could occur. Notably, we observe the most frequent\\ntyped triangle motifs are of a single type. Indeed, the first 7 typed\\ntriangle motifs with largest frequency in Figure 11 are of a single\\ntype. Overall, these 7 typed triangle motifs account for 83.86% of\\nall typed triangle motifs. This finding indicates strong homophily\\namong nodes. For instance, the co-authors of a researcher are also\\ntypically co-authors, but more strongly, the co-authors are also all\\ntypically from the same research area. Homophily has been widely\\nstudied in social networks and detecting it remains a challenging\\nproblem [ 29]. Unlike untyped motifs, typed motifs simultaneouslycapture the labeling and structural properties that lie at the heart of\\nhomophily [ 33]. Therefore, typed motifs provide a principled foun-\\ndation for studying homophily in social networks [ 33]. In Figure 11,\\nwe observe a large gap that clearly separates the 7 single-typed\\ntriangle motifs from the other typed triangle motifs with hetero-\\ngeneous types. Furthermore, only 49 out of the 84 possible typed\\ntriangle motifs (Table 2) actually occur in the graph. The 25 typed\\ntriangle motifs that do not occur are “forbidden heterogeneous\\nmotifs\" and can provide additional insights into the network and\\nthe processes governing the formation with respect to the types\\n(research areas).\\nFigure 12 investigates a variety of typed 4-node graphlet dis-\\ntributions (from most dense to least dense). Strikingly, only 19 of\\nthe 210 possible typed 4-clique graphlets actually occur in Gwhen\\nnode types are randomly shuffled. In the case of typed 4-node cycle\\ngraphlets, we observe 66 of the actual 210 possible typed 4-node\\ncycle graphlets appear when node types are randomly shuffled.\\n8 RELATED WORK\\nWhile the bulk of work on graphlets (network motifs) have focused\\non untyped/uncolored graphlets [ 3,4,7,21,22,32,36,48,51,61],\\nthere have been a few recent works for typed graphlets.3All of\\nthese works focus on the problem of counting typed graphlets for\\nnodes whereas this paper focuses on the problem of counting typed\\ngraphlets for edges (or more generally, between a pair of nodes i\\nandj). The earliest such work by Ribeiro et al. [42] proposed an\\napproach called G-Tries for finding frequent and statistically sig-\\nnificant colored motifs [ 42,58]. This problem differs from the one\\nwe study in this work that focuses on deriving all such colored\\ngraphlets. One recent work by Gu et al. [20] used a relaxed defi-\\nnition of colored graphlets for network alignment on very small\\nheterogeneous networks. This work focused mainly on the prob-\\nlem of network alignment for simple heterogeneous networks and\\nnot on the approach for deriving typed graphlets. Nevertheless,\\nthe method GC used in that work differs from our approach in\\nfour significant ways. First, while we leverage combinatorial rela-\\ntionships to derive a number of typed graphlets in o(1)constant\\ntime, GC must enumerate all homogeneous graphlets in order to\\nobtain their type/color configuration. Therefore, our approach is\\nsignificantly faster than GC as that approach requires a lot of extra\\nwork to compute the typed graphlets that we can derive in constant\\ntime. Second, our approach is significantly more space-efficient and\\nstores only the nonzero counts of the typed graphlets discovered\\nat each edge. Third, we parallelize our approach to handle large\\nsparse networks. As an aside, Gu et al. [20] claim the time com-\\nplexity of their approach is equivalent to counting homogeneous\\ngraphlets. This is only true if the homogeneous graphlet algorithm\\nused enumerates all such homogeneous graphlets since this is the\\nonly way that step 2 of their approach could be performed, which re-\\nquires them to obtain the colors of the nodes involved in the k-node\\ngraphlet found in step 1. However, there are much faster algorithms\\nfor homogeneous graphlets that avoid explicit enumeration of all\\nsuch graphlets, e.g., [3,4]. In a similar fashion, our approach avoids\\nenumerating all such graphlets and explicitly obtains the colors\\n3Typed graphlets are also called colored/heterogeneous graphlets or motifs.\\n15', metadata={'page': 14, 'source': '/home/jovyan/work/Part 1. Langchain/../data/Network_Motifs/Heterogeneous Network Motifs.pdf'})"
      ]
     },
     "execution_count": 34,
     "metadata": {},
     "output_type": "execute_result"
    }
   ],
   "source": [
    "query = \"Hetereogeneous network motif compute complexity\"\n",
    "docs = db.similarity_search(query)\n",
    "docs[1]"
   ]
  },
  {
   "cell_type": "markdown",
   "id": "f27959f4-c18b-464a-b092-e3d67622d08e",
   "metadata": {},
   "source": [
    "### LangChain Q&A with ChromaDB\n",
    "\n",
    "Now let's do Q&A about network motifs using OpenAI."
   ]
  },
  {
   "cell_type": "code",
   "execution_count": null,
   "id": "5e5c0581-92ae-4709-9d41-8674c6d6083a",
   "metadata": {},
   "outputs": [],
   "source": []
  },
  {
   "cell_type": "code",
   "execution_count": null,
   "id": "e15d70f3-4e68-4d98-ac81-80f2bcd54ddd",
   "metadata": {},
   "outputs": [],
   "source": []
  },
  {
   "cell_type": "code",
   "execution_count": null,
   "id": "6d47a60b-36de-4b28-817d-bc715b0f9132",
   "metadata": {},
   "outputs": [],
   "source": []
  },
  {
   "cell_type": "code",
   "execution_count": null,
   "id": "bf4b8736-5843-4a32-9aaf-92117d76c40a",
   "metadata": {},
   "outputs": [],
   "source": []
  },
  {
   "cell_type": "markdown",
   "id": "ca44acf1-e913-4fc0-9665-4d19f7e11d72",
   "metadata": {},
   "source": [
    "# What is LangChain?\n",
    "\n",
    "#### Note: the following LangChain introduction is originally by [Ivan Reznikov](https://linkedin.com/in/rez) in [LangChain 101: Part 1. Building Simple Q&A App](https://pub.towardsai.net/langchain-101-part-1-building-simple-q-a-app-90d9c4e815f3).\n",
    "\n",
    "Today, we will discuss the following topics:\n",
    "\n",
    "* What exactly is LangChain?\n",
    "* LangChain’s fundamental concepts and components\n",
    "* How to build a basic LangChain application\n",
    "\n",
    "Lang stands for language, which is the primary focus of LangChain, and chain — the connotation of connecting things — refers to the chain component used in LangChain. Chains are sequences of instructions that the framework executes to perform a task. This simplifies the use of Large Language Models for specific tasks and enables you to combine the power of LLMs (Large Language Models) with other programming techniques.\n",
    "\n",
    "I’ve been asked how LangChain differs from ChatGPT or LLM. To answer this question, I’m attaching a table that highlights the differences:\n",
    "\n",
    "<pre><code>\n",
    "+==========+========================+====================+====================+\n",
    "|          | LangChain              | LLM                | ChatGPT            | \n",
    "+==========+========================+====================+====================+\n",
    "| Type     | Framework              | Model              | Model              | \n",
    "+----------+------------------------+--------------------+--------------------+\n",
    "| Purpose  | Build applications     | Generate text      | Generate chat      | \n",
    "|          | with LLMs              |                    | conversations      | \n",
    "+----------+------------------------+--------------------+--------------------+\n",
    "| Features | Chains, prompts, LLMs, | Large dataset of   | Large dataset of   | \n",
    "|          | memory, index, agents  | text and code      | chat conversations | \n",
    "+----------+------------------------+--------------------+--------------------+\n",
    "| Pros     | Can combine LLMs with  | Generates nearly   | Generates realistic| \n",
    "|          | programming techniques | human-quality text | chat conversations | \n",
    "+----------+------------------------+--------------------+--------------------+\n",
    "| Cons     | Requires some          | Not as easy to use | Not as versatile   | \n",
    "|          | programming knowledge  | for specific tasks | as LangChain       | \n",
    "+----------+------------------------+--------------------+--------------------+\n",
    "</code></pre>"
   ]
  },
  {
   "cell_type": "code",
   "execution_count": null,
   "id": "23d0dfdc-050a-4cd0-95f4-5bac0407472e",
   "metadata": {},
   "outputs": [],
   "source": []
  },
  {
   "cell_type": "code",
   "execution_count": null,
   "id": "44c5d486-2db3-41cf-aabb-164e6b8b7689",
   "metadata": {},
   "outputs": [],
   "source": []
  },
  {
   "cell_type": "code",
   "execution_count": null,
   "id": "6bfd8e8d-de0e-48ec-83ed-2f6412ac9571",
   "metadata": {},
   "outputs": [],
   "source": []
  },
  {
   "cell_type": "markdown",
   "id": "1d91e017-586a-4d95-8653-69254d28eba5",
   "metadata": {},
   "source": [
    "## OpenAI\n",
    "\n",
    "https://platform.openai.com/docs/models/gpt-4-and-gpt-4-turbo"
   ]
  },
  {
   "cell_type": "code",
   "execution_count": null,
   "id": "6f00ac98-1b5b-4700-b720-22c9d2804531",
   "metadata": {},
   "outputs": [],
   "source": []
  }
 ],
 "metadata": {
  "kernelspec": {
   "display_name": "Python 3 (ipykernel)",
   "language": "python",
   "name": "python3"
  },
  "language_info": {
   "codemirror_mode": {
    "name": "ipython",
    "version": 3
   },
   "file_extension": ".py",
   "mimetype": "text/x-python",
   "name": "python",
   "nbconvert_exporter": "python",
   "pygments_lexer": "ipython3",
   "version": "3.10.11"
  }
 },
 "nbformat": 4,
 "nbformat_minor": 5
}
