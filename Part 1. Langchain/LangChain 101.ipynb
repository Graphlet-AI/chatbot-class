{
 "cells": [
  {
   "cell_type": "markdown",
   "id": "f147bce5-a953-4570-8b63-853051db1f60",
   "metadata": {},
   "source": [
    "# LangChain 101: Ruby on Rails for Generative AI\n",
    "\n",
    "[LangChain](https://langchain.com/) is a popular chatbot and LLM library that efficiently connects many tools. It is known as an easy way to produce chatbots, but is actually much more: an **onramp** to generative AI. LangChain is like [Ruby on Rails](https://en.wikipedia.org/wiki/Ruby_on_Rails) [which powered Web 2.0] for generative artificial intelligence. It has enabled the rapid adoption of LLM technology across the web, startup ecosystem and in the modern enterprise [big companies!].\n",
    "\n",
    "#### Note: Credit to Ivan Reznikov\n",
    "\n",
    "This content is indebted to [Ivan Reznikov](https://linkedin.com/in/reznikovivan), who created a [LangChain 101 Course](https://pub.towardsai.net/langchain-101-part-1-building-simple-q-a-app-90d9c4e815f3) that is excellent.\n",
    "\n",
    "## Question & Answer (Q&A) using Retrieval Augmented Generation (RAG) with LangChain\n",
    "\n",
    "The most popular technique using large language models and LangChain is Retrieval Augmented Generation (RAG): indexing documents using a technique called _vector search_ and then retrieving parts of them relevant to a question, adding these document segments before the question's in a request, and submitting it to an LLM like [OpenAI](https://platform.openai.com/docs/introduction). **Talk is cheap**. We're going to start out by building a RAG engine using [ChromaDB](https://www.trychroma.com/) which is easy to get started with.\n",
    "\n",
    "#### Note: Because the simple, local version of Chroma can be more difficult to scale, we will be using OpenSearch via Docker to work with larger sets of documents."
   ]
  },
  {
   "cell_type": "code",
   "execution_count": 1,
   "id": "f1436a01-68ee-4b35-b463-947c25efa56b",
   "metadata": {},
   "outputs": [],
   "source": [
    "import logging\n",
    "import os\n",
    "from typing import Any, Dict, List, Optional, Type\n",
    "\n",
    "import chromadb\n",
    "from langchain.chains import ConversationalRetrievalChain\n",
    "from langchain.document_loaders import PyPDFDirectoryLoader\n",
    "from langchain.embeddings import CacheBackedEmbeddings, OpenAIEmbeddings\n",
    "from langchain.embeddings.base import Embeddings\n",
    "from langchain.llms import OpenAI\n",
    "from langchain.memory import ConversationBufferMemory\n",
    "from langchain.schema import Document\n",
    "from langchain.storage import LocalFileStore\n",
    "from langchain.vectorstores import Chroma"
   ]
  },
  {
   "cell_type": "markdown",
   "id": "4376bc70-fd1e-44fd-9235-1d470eef7844",
   "metadata": {},
   "source": [
    "### Q&Q on Network Motifs\n",
    "\n",
    "I am obsessed with _network motifs_ - statistically significant patterns called _graphlets_ that appear in _complex networks_. You can se\n",
    "\n",
    "<br />\n",
    "<center>\n",
    "    <img src=\"../images/5-graphlets.png\" width=\"600px\" />\n",
    "</center>\n",
    "<br />\n",
    "<center>\n",
    "    <a href=\"https://www.nature.com/articles/s41598-020-69795-1\">Exploiting graphlet decomposition to explain the structure of complex networks: the GHuST framework</a>, Espejo et al., 2020.\n",
    "</center>\n"
   ]
  },
  {
   "cell_type": "code",
   "execution_count": null,
   "id": "b689b58d-80af-41b2-a7d5-47eb493f0b74",
   "metadata": {},
   "outputs": [],
   "source": []
  }
 ],
 "metadata": {
  "kernelspec": {
   "display_name": "Python 3 (ipykernel)",
   "language": "python",
   "name": "python3"
  },
  "language_info": {
   "codemirror_mode": {
    "name": "ipython",
    "version": 3
   },
   "file_extension": ".py",
   "mimetype": "text/x-python",
   "name": "python",
   "nbconvert_exporter": "python",
   "pygments_lexer": "ipython3",
   "version": "3.10.11"
  }
 },
 "nbformat": 4,
 "nbformat_minor": 5
}
