{
 "cells": [
  {
   "cell_type": "markdown",
   "id": "f147bce5-a953-4570-8b63-853051db1f60",
   "metadata": {},
   "source": [
    "# LangChain 101: Ruby on Rails for Generative AI\n",
    "\n",
    "[LangChain](https://langchain.com/) is a popular chatbot and LLM library that efficiently connects many tools. It is known as an easy way to produce chatbots, but is actually much more: an **onramp** to generative AI. LangChain is like [Ruby on Rails](https://en.wikipedia.org/wiki/Ruby_on_Rails) [which powered Web 2.0] for generative artificial intelligence. It has enabled the rapid adoption of LLM technology across the web, startup ecosystem and in the modern enterprise [big companies!].\n",
    "\n",
    "#### Note: Credit to Ivan Reznikov\n",
    "\n",
    "This content is indebted to [Ivan Reznikov](https://linkedin.com/in/reznikovivan), who created a [LangChain 101 Course](https://pub.towardsai.net/langchain-101-part-1-building-simple-q-a-app-90d9c4e815f3) that is excellent.\n",
    "\n",
    "## Question & Answer (Q&A) using Retrieval Augmented Generation (RAG) with LangChain\n",
    "\n",
    "The most popular techniques using large language models and LangChain are vector similarity search and Retrieval Augmented Generation (RAG) for Q&A models: indexing documents using a technique called _vector search_ and then retrieving parts of them relevant to a question, adding these document segments before the question's in a request, and submitting it to an LLM like [OpenAI](https://platform.openai.com/docs/introduction). **Talk is cheap**. We're going to start out by building a RAG engine using [ChromaDB](https://www.trychroma.com/) which is easy to get started with.\n",
    "\n",
    "#### Note: Because the simple, local version of Chroma can be more difficult to scale, we will be using OpenSearch via Docker to work with larger sets of documents."
   ]
  },
  {
   "cell_type": "code",
   "execution_count": 2,
   "id": "f1436a01-68ee-4b35-b463-947c25efa56b",
   "metadata": {},
   "outputs": [],
   "source": [
    "import logging\n",
    "import os\n",
    "from typing import Any, Dict, List, Optional, Type\n",
    "\n",
    "import chromadb\n",
    "from langchain.chains import ConversationalRetrievalChain\n",
    "from langchain.document_loaders import PyPDFDirectoryLoader\n",
    "from langchain.embeddings import CacheBackedEmbeddings, OpenAIEmbeddings\n",
    "from langchain.embeddings.base import Embeddings\n",
    "from langchain.llms import OpenAI\n",
    "from langchain.memory import ConversationBufferMemory\n",
    "from langchain.schema import Document\n",
    "from langchain.storage import LocalFileStore\n",
    "from langchain.vectorstores import Chroma"
   ]
  },
  {
   "cell_type": "markdown",
   "id": "4376bc70-fd1e-44fd-9235-1d470eef7844",
   "metadata": {},
   "source": [
    "### Q&A [nerding out] about Network Motifs\n",
    "\n",
    "I am obsessed with _network motifs_ - statistically significant patterns in _graphs_ (a graph in the real world is called a _network_) called _graphlets_ that appear in _complex networks_. You can see a simple and more complex heterogeneous, temporal network motif below.\n",
    "\n",
    "<br />\n",
    "<center>\n",
    "    <img src=\"../images/5-graphlets.png\" width=\"600px\" />\n",
    "</center>\n",
    "<br />\n",
    "<center>\n",
    "    <a href=\"https://www.nature.com/articles/s41598-020-69795-1\">Exploiting graphlet decomposition to explain the structure of complex networks: the GHuST framework</a>, Espejo et al., 2020\n",
    "</center>\n",
    "<br /><br />\n",
    "\n",
    "<center><img src=\"../images/temporal-motifs.png\" width=\"400px\" /></center>\n",
    "<br />\n",
    "<center><a href=\"https://snap.stanford.edu/temporal-motifs/\">Motifs in temporal networks</a>, Ashwin Paranjape, Austin R. Benson, and Jure Leskovec., 2017</center>\n",
    "<br />\n",
    "\n",
    "If you run the [`./download.sh`](download.sh) script in a terminal window, it will download a tarball of 25 network motif datasets and extract them into the `data/Network_Motifs/` folder. We will use ChromaDB to implement RAG over these systems before getting into a deeper explanation of what is going on and what is available in Langchain."
   ]
  },
  {
   "cell_type": "markdown",
   "id": "6550db5a-d5b2-4ce5-a69d-257e41246aa0",
   "metadata": {},
   "source": [
    "#### Load a copy of one of my Dropbox folders with academic papers"
   ]
  },
  {
   "cell_type": "code",
   "execution_count": 5,
   "id": "b689b58d-80af-41b2-a7d5-47eb493f0b74",
   "metadata": {},
   "outputs": [],
   "source": [
    "PAPER_FOLDER = f\"{os.getcwd()}/../data/Network_Motifs/\""
   ]
  },
  {
   "cell_type": "markdown",
   "id": "f49219c2-f55a-42e9-8fb8-d4e52cdd8d25",
   "metadata": {},
   "source": [
    "#### Verify papers directory"
   ]
  },
  {
   "cell_type": "code",
   "execution_count": 6,
   "id": "816b2c2d-6a75-4257-b95b-ffdc612eeaa4",
   "metadata": {},
   "outputs": [
    {
     "name": "stdout",
     "output_type": "stream",
     "text": [
      "You have 25 Network Motif PDFs in `/home/jovyan/work/Part 1. Langchain/../data/Network_Motifs/`.\n"
     ]
    }
   ],
   "source": [
    "paper_count = len(os.listdir(PAPER_FOLDER))\n",
    "print(f\"You have {paper_count:,} Network Motif PDFs in `{PAPER_FOLDER}`.\")"
   ]
  },
  {
   "cell_type": "markdown",
   "id": "e5484680-0de0-4fe2-b5c6-06b94f7ef241",
   "metadata": {},
   "source": [
    "#### Load our OpenAI key"
   ]
  },
  {
   "cell_type": "code",
   "execution_count": 7,
   "id": "fd6ffc70-d5bb-4899-8dbe-67c936add56c",
   "metadata": {},
   "outputs": [],
   "source": [
    "# Set in env/openai.env\n",
    "openai_api_key = os.environ.get(\"OPENAI_API_KEY\")\n",
    "if not openai_api_key:\n",
    "    raise ValueError(\"OPENAI_API_KEY environment variable not set\")"
   ]
  },
  {
   "cell_type": "markdown",
   "id": "f37dc558-acf6-4c50-8358-9e5748e80e26",
   "metadata": {},
   "source": [
    "#### Load all PDFs from academic paper folder"
   ]
  },
  {
   "cell_type": "code",
   "execution_count": 8,
   "id": "a8c8ef00-ef8e-46fe-a99b-c63fee39434b",
   "metadata": {},
   "outputs": [
    {
     "name": "stdout",
     "output_type": "stream",
     "text": [
      "You have 661 document segments in `/home/jovyan/work/Part 1. Langchain/../data/Network_Motifs/`.\n"
     ]
    }
   ],
   "source": [
    "loader = PyPDFDirectoryLoader(PAPER_FOLDER, silent_errors=True)\n",
    "docs = loader.load()\n",
    "print(f\"You have {len(docs)} document segments in `{PAPER_FOLDER}`.\")"
   ]
  },
  {
   "cell_type": "markdown",
   "id": "59239e32-c0b1-438f-bf42-bcd90c400b87",
   "metadata": {},
   "source": [
    "#### How many papers on network motifs?"
   ]
  },
  {
   "cell_type": "code",
   "execution_count": 9,
   "id": "32600afb-8c0a-4bce-ba3e-ba9ad382d8b9",
   "metadata": {},
   "outputs": [
    {
     "name": "stdout",
     "output_type": "stream",
     "text": [
      "You have 20 papers mentioning network motifs split across 321 document segments in `/home/jovyan/work/Part 1. Langchain/../data/Network_Motifs/`.\n"
     ]
    }
   ],
   "source": [
    "motif_docs = [doc for doc in docs if \"motif\" in doc.page_content]\n",
    "motif_doc_count = len(motif_docs)\n",
    "paper_count = len(set(doc.metadata[\"source\"] for doc in motif_docs))\n",
    "print(\n",
    "    f\"You have {paper_count} papers mentioning network motifs split across {motif_doc_count} document segments in `{PAPER_FOLDER}`.\"\n",
    ")"
   ]
  },
  {
   "cell_type": "markdown",
   "id": "0b6ddb76-e334-40e0-8790-4ccd841e2ea5",
   "metadata": {},
   "source": [
    "#### Embed them with OpenAI ada model and store them in OpenSearch"
   ]
  },
  {
   "cell_type": "code",
   "execution_count": 10,
   "id": "08a314ee-d2e7-46de-9032-28b4da22efbf",
   "metadata": {},
   "outputs": [],
   "source": [
    "embeddings = OpenAIEmbeddings()\n",
    "fs = LocalFileStore(\"./data/embedding_cache/\")\n",
    "cached_embedder = CacheBackedEmbeddings.from_bytes_store(\n",
    "    embeddings, fs, namespace=embeddings.model,\n",
    ")"
   ]
  },
  {
   "cell_type": "markdown",
   "id": "0a9a02b0-13c5-4b15-9331-1330d9c05641",
   "metadata": {},
   "source": [
    "#### Load it into Chroma from our documents set"
   ]
  },
  {
   "cell_type": "code",
   "execution_count": 37,
   "id": "d6b808af-56b6-4b57-892d-c2a813f9ebb0",
   "metadata": {},
   "outputs": [],
   "source": [
    "chromadb = Chroma.from_documents(docs, cached_embedder)"
   ]
  },
  {
   "cell_type": "markdown",
   "id": "0bd5f1bb-a821-40ab-b4d1-751d28908a81",
   "metadata": {},
   "source": [
    "### Similarity Search\n",
    "\n",
    "If our task is information retrieval - semantic search - returning documents related to the meaning of a text query, LangChain and ChromaDB have us covered."
   ]
  },
  {
   "cell_type": "markdown",
   "id": "c5a639d0-ba2c-42e4-b44c-8e0ecfa9c513",
   "metadata": {},
   "source": [
    "#### Let's retrieve documents similar to a question, a part of Q&A"
   ]
  },
  {
   "cell_type": "code",
   "execution_count": 38,
   "id": "dfc47329-6d89-4a2b-99f2-dc64844e777b",
   "metadata": {},
   "outputs": [
    {
     "data": {
      "text/plain": [
       "Document(page_content='8How do we findmodules of network motifs?', metadata={'page': 7, 'source': '/home/jovyan/work/Part 1. Langchain/../data/Network_Motifs/Higher-Order Organization of Complex Networks - Slides from 2016.pdf'})"
      ]
     },
     "execution_count": 38,
     "metadata": {},
     "output_type": "execute_result"
    }
   ],
   "source": [
    "query = \"What is a network motif?\"\n",
    "docs = chromadb.similarity_search(query)\n",
    "docs[0]"
   ]
  },
  {
   "cell_type": "markdown",
   "id": "995214c4-01c4-4049-8e86-9d63be9f8403",
   "metadata": {},
   "source": [
    "#### Let's look for documents that talk about heterogeneous network motif computation complexity"
   ]
  },
  {
   "cell_type": "code",
   "execution_count": 40,
   "id": "f362f5e1-75cf-4979-a6e9-dce3cfb38cb8",
   "metadata": {},
   "outputs": [
    {
     "data": {
      "text/plain": [
       "Document(page_content='Heterogeneous Network Motifs\\n[5]Nesreen K. Ahmed, Ryan A. Rossi, Theodore L. Willke, and Rong Zhou. 2017.\\nA Higher-order Latent Space Network Model. In Proceedings of the AAAI PAIR\\n(Plan, Activity, and Intent Recognition) Workshop . 1–7.\\n[6]Nesreen K. Ahmed, Ryan A. Rossi, Rong Zhou, John Boaz Lee, Xiangnan Kong,\\nTheodore L. Willke, and Hoda Eldardiry. 2018. Learning Role-based Graph\\nEmbeddings. In StarAI IJCAI .\\n[7]Nesreen K. Ahmed, Theodore L. Willke, and Ryan A. Rossi. 2016. Estimation of\\nLocal Subgraph Counts. In Proceedings of the IEEE International Conference on\\nBigData . 586–595.\\n[8]Leman Akoglu, Hanghang Tong, and Danai Koutra. 2015. Graph based anomaly\\ndetection and description: a survey. DMKD 29, 3 (2015), 626–688.\\n[9]Danielle Smith Bassett and ED Bullmore. 2006. Small-world brain networks. The\\nneuroscientist 12, 6 (2006), 512–523.\\n[10] Austin R Benson, David F Gleich, and Jure Leskovec. 2016. Higher-order organi-\\nzation of complex networks. Science 353, 6295 (2016), 163–166.\\n[11] Ed Bullmore and Olaf Sporns. 2009. Complex brain networks: graph theoretical\\nanalysis of structural and functional systems. Nature Reviews Neuroscience 10, 3\\n(2009), 186–198.\\n[12] Aldo G. Carranza, Ryan A. Rossi, Anup Rao, and Eunyee Koh. 2018. Higher-order\\nSpectral Clustering for Heterogeneous Graphs. In arXiv:1810.02959 . 15.\\n[13] Lianhua Chi and Xingquan Zhu. 2017. Hashing techniques: A survey and taxon-\\nomy. ACM Computing Surveys (CSUR) 50, 1 (2017), 11.\\n[14] F. Chung and L. Lu. 2002. Connected components in random graphs with given\\nexpected degree sequences. Annals of combinatorics 6, 2 (2002), 125–145.\\n[15] Joseph Crawford and Tijana Milenković. 2015. GREAT: GRaphlet Edge-based\\nnetwork AlignmenT. In BIBM . 220–227.\\n[16] N. Eagle and A. Pentland. 2006. Reality mining: sensing complex social systems.\\nPersonal and Ubiquitous Computing 10, 4 (2006), 255–268.\\n[17] Paul Erdős and A Rényi. 1960. On the evolution of random graphs. Publ. Math.\\nInst. Hungar. Acad. Sci 5 (1960), 17–61.\\n[18] M. Faloutsos, P. Faloutsos, and C. Faloutsos. 1999. On power-law relationships of\\nthe internet topology. In Proceedings of the conference on Applications, technologies,\\narchitectures, and protocols for computer communication . ACM, 262.\\n[19] M Girvan and M E J Newman. 2002. Community structure in social and biological\\nnetworks. PNAS 99, 12 (2002), 7821–7826.\\n[20] Shawn Gu, John Johnson, Fazle E Faisal, and Tijana Milenković. 2018. From ho-\\nmogeneous to heterogeneous network alignment via colored graphlets. Scientific\\nreports 8, 1 (2018), 12524.\\n[21] Wayne Hayes, Kai Sun, and Nataša Pržulj. 2013. Graphlet-based measures are\\nsuitable for biological network comparison. Bioinformatics 29, 4 (2013), 483–491.\\n[22] Tomaž Hočevar and Janez Demšar. 2014. A combinatorial approach to graphlet\\ncounting. Bioinformatics 30, 4 (2014), 559–565.\\n[23] Yuriy Hulovatyy, Huili Chen, and T Milenković. 2015. Exploring the structure\\nand function of temporal networks with dynamic graphlets. Bioinformatics 31,\\n12 (2015), i171–i180.\\n[24] Chia-Chen Hung, Hope Chan, and Eric Hsiao-Kuang Wu. 2008. Mobility pattern\\naware routing for heterogeneous vehicular networks. In WCNC . 2200–2205.\\n[25] Xiangnan Kong, Jiawei Zhang, and Philip S Yu. 2013. Inferring anchor links\\nacross multiple heterogeneous social networks. In CIKM . 179–188.\\n[26] Lauri Kovanen, Márton Karsai, Kimmo Kaski, János Kertész, and Jari Saramäki.\\n2011. Temporal motifs in time-dependent networks. Journal of Statistical Me-\\nchanics: Theory and Experiment 2011, 11 (2011), P11005.\\n[27] Mehmet Koyutürk, Yohan Kim, Umut Topkara, Shankar Subramaniam, Wojciech\\nSzpankowski, and Ananth Grama. 2006. Pairwise alignment of protein interaction\\nnetworks. JCB13, 2 (2006), 182–199.\\n[28] Solomon Kullback. 1997. Information theory and statistics . Courier Corporation.\\n[29] Timothy La Fond and Jennifer Neville. 2010. Randomization Tests for Distin-\\nguishing Social Influence and Homophily Effects. In WWW (WWW ’10) . ACM,\\nNew York, NY, USA, 601–610.\\n[30] Jure Leskovec, Deepayan Chakrabarti, Jon Kleinberg, Christos Faloutsos, and\\nZoubin Ghahramani. 2010. Kronecker graphs: An approach to modeling networks.\\nJMLR 11, Feb (2010), 985–1042.\\n[31] Ryan N Lichtenwalter and Nitesh V Chawla. 2012. Vertex Collocation Profiles:\\nSubgraph Counting for Link Analysis and Prediction. In WWW . 1019–1028.\\n[32] Dror Marcus and Yuval Shavitt. 2012. RAGE–a rapid graphlet enumerator for\\nlarge networks. Computer Networks 56, 2 (2012), 810–819.\\n[33] Miller McPherson, Lynn Smith-Lovin, and James M Cook. 2001. Birds of a Feather:\\nHomophily in Social Networks. Ann. Rev. of Soc. 27, 1 (2001).\\n[34] Tijana Milenković and Nataša Pržulj. 2008. Uncovering Biological Network\\nFunction via Graphlet Degree Signatures. Cancer Informatics 6 (2008), 257.\\n[35] R Milo, S Shen-Orr, S Itzkovitz, N Kashtan, D Chklovskii, and U Alon. 2002.\\nNetwork Motifs: Simple Building Blocks of Complex Networks. Science 298, 5594(2002), 824–827.\\n[36] Ron Milo, Shai Shen-Orr, Shalev Itzkovitz, Nadav Kashtan, Dmitri Chklovskii,\\nand Uri Alon. 2002. Network motifs: simple building blocks of complex networks.\\nScience 298, 5594 (2002), 824–827.\\n[37] C.C. Noble and D.J. Cook. 2003. Graph-based anomaly detection. In SIGKDD .\\n631–636.\\n[38] G. Palla, I. Derényi, I. Farkas, and T. Vicsek. 2005. Uncovering the overlapping\\ncommunity structure of complex networks in nature and society. Nature 435,\\n7043 (2005), 814–818.\\n[39] Nataša Pržulj. 2007. Biological network comparison using graphlet degree distri-\\nbution. Bioinfo. 23, 2 (2007), e177–e183.\\n[40] N Pržulj, Derek G Corneil, and Igor Jurisica. 2004. Modeling interactome: scale-\\nfree or geometric? Bioinformatics 20, 18 (2004), 3508–3515.\\n[41] F. Radicchi, C. Castellano, F. Cecconi, V. Loreto, and D. Parisi. 2004. Defining and\\nidentifying communities in networks. PNAS 101, 9 (2004), 2658–2663.\\n[42] Pedro Ribeiro and Fernando Silva. 2014. Discovering colored network motifs. In\\nComplex Networks V . Springer, 107–118.\\n[43] Ryan A. Rossi and Nesreen K. Ahmed. 2015. The Network Data Repository\\nwith Interactive Graph Analytics and Visualization. In AAAI . 4292–4293. http:\\n//networkrepository.com\\n[44] Ryan A. Rossi, Nesreen K. Ahmed, Eunyee Koh, Sungchul Kim, Anup Rao,\\nand Yasin Abbasi-Yadkori. 2018. HONE: Higher-Order Network Embeddings.\\narXiv:1801.09303 (2018).\\n[45] Ryan A. Rossi, Sonia Fahmy, and Nilothpal Talukder. 2013. A Multi-Level Ap-\\nproach for Evaluating Internet Topology Generators. In Proceedings of IFIP Net-\\nworking . 1–9.\\n[46] Ryan A. Rossi and Rong Zhou. 2016. Parallel Collective Factorization for Modeling\\nLarge Heterogeneous Networks. In SNAM . 30.\\n[47] Ryan A. Rossi and Rong Zhou. 2018. GraphZIP: A Clique-based Sparse Graph\\nCompression Method. Journal of Big Data 5, 1 (2018), 14.\\n[48] Ryan A. Rossi, Rong Zhou, and Nesreen K. Ahmed. 2018. Estimation of Graphlet\\nCounts in Massive Networks. In IEEE Transactions on Neural Networks and Learn-\\ning Systems (TNNLS) . 1–14.\\n[49] Frank Schweitzer, Giorgio Fagiolo, Didier Sornette, Fernando Vega-Redondo,\\nAlessandro Vespignani, and Douglas R White. 2009. Economic networks: The\\nnew challenges. science 325, 5939 (2009), 422–425.\\n[50] Nino Shervashidze, Tobias Petri, Kurt Mehlhorn, Karsten M Borgwardt, and Svn\\nVishwanathan. 2009. Efficient graphlet kernels for large graph comparison. In\\nAISTATS .\\n[51] Nino Shervashidze, Tobias Petri, Kurt Mehlhorn, Karsten M Borgwardt, and Svn\\nVishwanathan. 2009. Efficient graphlet kernels for large graph comparison. In\\nInternational conference on artificial intelligence and statistics . 488–495.\\n[52] Nino Shervashidze, Pascal Schweitzer, Erik Jan van Leeuwen, Kurt Mehlhorn,\\nand Karsten M Borgwardt. 2011. Weisfeiler-lehman graph kernels. JMLR 12, Sep\\n(2011), 2539–2561.\\n[53] Ryan W Solava, Ryan P Michaels, and T Milenković. 2012. Graphlet-based edge\\nclustering reveals pathogen-interacting proteins. Bioinformatics 28, 18 (2012),\\ni480–i486.\\n[54] Yizhou Sun, Jiawei Han, Xifeng Yan, Philip S Yu, and Tianyi Wu. 2011. Pathsim:\\nMeta path-based top-k similarity search in heterogeneous information networks.\\nVLDB 4, 11 (2011), 992–1003.\\n[55] S Vichy N Vishwanathan, Nicol N Schraudolph, Risi Kondor, and Karsten M\\nBorgwardt. 2010. Graph kernels. JMLR 11 (2010), 1201–1242.\\n[56] Jian-Wei Wang and Li-Li Rong. 2009. Cascade-based attack vulnerability on the\\nUS power grid. Safety Science 47, 10 (2009), 1332–1336.\\n[57] D.J. Watts and S.H. Strogatz. 1998. Collective dynamics of small-world networks.\\nNature 393, 6684 (1998), 440–442.\\n[58] Sebastian Wernicke and Florian Rasche. 2006. FANMOD: a tool for fast network\\nmotif detection. Bioinformatics 22, 9 (2006), 1152–1153.\\n[59] Zhijun Yin, Rui Li, Qiaozhu Mei, and Jiawei Han. 2009. Exploring social tagging\\ngraph for web object classification. In SIGKDD . ACM, 957–966.\\n[60] Xiao Yu, Xiang Ren, Yizhou Sun, Quanquan Gu, Bradley Sturt, Urvashi Khandel-\\nwal, Brandon Norick, and Jiawei Han. 2014. Personalized entity recommendation:\\nA heterogeneous information network approach. In WSDM . 283–292.\\n[61] Luming Zhang, Yahong Han, Yi Yang, Mingli Song, Shuicheng Yan, and Qi Tian.\\n2013. Discovering discriminative graphlets for aerial image categories recognition.\\nIEEE Transactions on Image Processing 22, 12 (2013), 5071–5084.\\n[62] L. Zhang, R. Hong, Y. Gao, R. Ji, Q. Dai, and X. Li. 2016. Image Categorization by\\nLearning a Propagated Graphlet Path. TNNLS 27, 3 (2016), 674–685.\\n[63] Luming Zhang, Mingli Song, Zicheng Liu, Xiao Liu, Jiajun Bu, and Chun Chen.\\n2013. Probabilistic graphlet cut: Exploiting spatial structure cue for weakly\\nsupervised image segmentation. In CVPR .\\n17', metadata={'page': 16, 'source': '/home/jovyan/work/Part 1. Langchain/../data/Network_Motifs/Heterogeneous Network Motifs.pdf'})"
      ]
     },
     "execution_count": 40,
     "metadata": {},
     "output_type": "execute_result"
    }
   ],
   "source": [
    "query = \"Hetereogeneous network motif compute complexity\"\n",
    "docs = chromadb.similarity_search(query)\n",
    "docs[0]"
   ]
  },
  {
   "cell_type": "markdown",
   "id": "f27959f4-c18b-464a-b092-e3d67622d08e",
   "metadata": {},
   "source": [
    "### LangChain Q&A with ChromaDB\n",
    "\n",
    "Now let's do Q&A about network motifs using OpenAI. You can find the different OpenAI models you can use in the [Models docs](https://platform.openai.com/docs/models)."
   ]
  },
  {
   "cell_type": "markdown",
   "id": "f92c3602-3f52-4a64-97d9-9ba92d51cdb2",
   "metadata": {},
   "source": [
    "#### Setup a simple buffer memory system to submit with the API calls to provide prompt context"
   ]
  },
  {
   "cell_type": "code",
   "execution_count": 58,
   "id": "5e5c0581-92ae-4709-9d41-8674c6d6083a",
   "metadata": {},
   "outputs": [],
   "source": [
    "memory = ConversationBufferMemory(memory_key=\"chat_history\", return_messages=True)"
   ]
  },
  {
   "cell_type": "markdown",
   "id": "a050dd28-849e-402d-b62d-1e1e304a7d0e",
   "metadata": {},
   "source": [
    "#### Create a ConversationalRetrievalChain from the LLM, the vectorstore, and the memory system"
   ]
  },
  {
   "cell_type": "code",
   "execution_count": 113,
   "id": "83a2355d-e4dc-41b3-893a-a4691b8a76f8",
   "metadata": {},
   "outputs": [],
   "source": [
    "qa = ConversationalRetrievalChain.from_llm(\n",
    "    # OpenAI(model=\"text-davinci-003\", temperature=0.8),\n",
    "    ChatOpenAI(temperature=0.8, model=\"gpt-3.5-turbo-16k\"),\n",
    "    chromadb.as_retriever(),\n",
    "    memory=memory,\n",
    "    verbose=True,\n",
    ")"
   ]
  },
  {
   "cell_type": "markdown",
   "id": "b1f0b086-6a6e-4911-ba99-81efa7deaa7d",
   "metadata": {},
   "source": [
    "#### Lets ask it about network motifs!"
   ]
  },
  {
   "cell_type": "code",
   "execution_count": 114,
   "id": "67cc0b6d-32f8-4248-ab0b-832e60e8fe3c",
   "metadata": {},
   "outputs": [],
   "source": [
    "# print(qa({\"question\": \"What is a simple network motif?\"})[\"answer\"])"
   ]
  },
  {
   "cell_type": "markdown",
   "id": "d08885e6-2c0d-4aca-8fa8-86c8fc348e9a",
   "metadata": {},
   "source": [
    "#### Fantastic! I get an excellent definition :)"
   ]
  },
  {
   "cell_type": "code",
   "execution_count": 115,
   "id": "acf1e405-de7a-45e4-8829-57e45731f75d",
   "metadata": {},
   "outputs": [],
   "source": [
    "# print(qa({\"question\": \"What is a graphlet? What are orbits?\"})[\"answer\"])"
   ]
  },
  {
   "cell_type": "code",
   "execution_count": 116,
   "id": "6d47a60b-36de-4b28-817d-bc715b0f9132",
   "metadata": {},
   "outputs": [],
   "source": [
    "# print(qa({\"question\": \"What are the different types of network motif?\"})[\"answer\"])"
   ]
  },
  {
   "cell_type": "code",
   "execution_count": 117,
   "id": "bea11319-e496-4b55-b07d-0cbcad6b0d17",
   "metadata": {},
   "outputs": [],
   "source": [
    "retriever = chromadb.as_retriever(search_type=\"similarity\", search_kwargs={\"k\": 6})"
   ]
  },
  {
   "cell_type": "code",
   "execution_count": 118,
   "id": "bf4b8736-5843-4a32-9aaf-92117d76c40a",
   "metadata": {},
   "outputs": [],
   "source": [
    "retrieved_docs = retriever.get_relevant_documents(\n",
    "    \"How do you search for network motifs in a network?\"\n",
    ")"
   ]
  },
  {
   "cell_type": "code",
   "execution_count": 119,
   "id": "2a532def-34b0-4626-8b34-e2793b3b3a83",
   "metadata": {},
   "outputs": [
    {
     "data": {
      "text/plain": [
       "[Document(page_content='8How do we findmodules of network motifs?', metadata={'page': 7, 'source': '/home/jovyan/work/Part 1. Langchain/../data/Network_Motifs/Higher-Order Organization of Complex Networks - Slides from 2016.pdf'}),\n",
       " Document(page_content='networks [14], financial [15] and trade networks [16], and internet and mobile wireless com-\\nmunication [17]. This hasledtoawhole range (quite likely hundreds) ofsoftware toolboxes or\\none-off programs fordetecting network motifs [18]. This paper outlines briefly theorigins and\\nhistory ofnetwork motifs and themain algorithm foridentifying motifs, that is,before its\\nrecent “rediscovery” [19] (Merton 1961) attheturn ofthemillennia byMilo and colleagues\\n(2002) [1]and Shen-Orr and colleagues (2002) [3].\\nInorder toproceed, wedefine afewbasic terms from network theory. Any network or\\ngraph may bestudied interms ofitsbinary adjacency matrixA.Foranetwork withnnodes,\\nand ann×nbinary adjacency matrixA,thenAij=1implies that node-i isconnected tonode-\\nj,andAij=0otherwise. The network isundirected ifAij=Aji,butingeneral, wedeal with\\ndirected networks inwhich thisequality usually doesn’t hold. The row and column sums ofA\\naregiven byri¼Pn\\nj¼1Aij,andcj¼Pn\\ni¼1Aij,and represent thein-and out-degrees ofall\\nnodes inthenetwork. Akeygoal istofind away togenerate independent random samples\\nfrom thefull“universe” ofallpossible binary adjacency matrices that have thesame row and\\ncolumn sumsr=(ri),c=(cj),respectively. This universe ofmatrices isreferred toasU(r,c) and\\nconstitutes theuniverse ofallpossible matrices having thesame row and column constraints,\\nthus preserving animportant topological feature oftheobserved adjacency matrixA.\\nInecological applications, letussuppose foragiven adjacency matrixAthat rows represent\\nspecies and columns represents islands. ThenAij=1implies that species-i inhabits island-j.\\nThe random matrix ensemble should lock-in characteristics that reflect theability ofsome spe-\\nciestocolonize islands better than other species aswell asthefeature that some islands hold\\nmore species than others. Forthisreason, wegenerate areference ensemble ofrandom matri-\\ncesforournull-model inwhich therow sums (reflecting species colonization abilities) and col-\\numn sums (reflecting island species numbers) never change [20].\\nToourknowledge, thefirst rigorous methods fordetecting nonrandom patterns inadja-\\ncency matrices ornetworks, when compared totheuniverseU(r,c) ofallpossible matrices, can\\nbetraced totheworks ofConnor and Simberloff (1979) [20], Stone (1988) [21], and Stone and\\nRoberts (1992) [5].These studies usetheso-called switch method togenerate anensemble of\\nrandom matrices. The method randomly switches orinterchanges checkerboard configura-\\ntions, asshown inFig2,and rests ontheobservation that applying asingle such switch leaves\\ntherow and column sums ofthematrix unchanged. Applying enough switches randomizes\\ntheadjacency matrix, butwith each switch therow and column sums ofthematrix remain pre-\\nserved. The latter aregenerally fixed tothevalues oftheobserved matrix being tested. Simberl-\\noff(1986) [22] and Stone (1988) [21] attempted toshow computationally that theswitch\\nmethod randomly samples theuniverse ofallpossible matrices fromU(r,c) inamanner that is\\napproximately uniform and discussed schemes fordrawing samples after everyksuccessive\\ninterchanges. Zaman and Simberloff (2002) [23] and Artzy-Randrup and Stone (2005) [24]\\nshow rigorously, using different methods, that exact uniformity canbeachieved with easily\\nimplemented weighting schemes. Independent matrix samples sogenerated from theensem-\\nbleU(r,c) provide areference frame that canbeused toestimate motif frequencies that should\\nbeexpected with arandom model. Other novel sampling methods have since been devised\\n[25,26].\\nAmethod specifically forfinding anover-represented “network motif” was, toourknowl-\\nedge, first outlined explicitly inStone (1988) [21] and Stone and Roberts (1992) [5].They\\ndefined theCscore astheaverage number ofcheckerboard units ormotifs between atypical\\npair ofnodes orspecies. Figs 1Aand 2help explain theconcept. Again, therows oftheadja-\\ncency matrixArepresent species and columns represent islands. InFig1A,anexample check-\\nerboard motif represents asubset oftwospecies (here, Band D)and twoislands (I3andI5).In\\nPLOS Computationa lBiology |https:/ /doi.org/10.13 71/journal.p cbi.1006749 April 11,2019 3/7', metadata={'page': 2, 'source': '/home/jovyan/work/Part 1. Langchain/../data/Network_Motifs/Network motifs and their origins.pdf'}),\n",
       " Document(page_content='12How do we generalize conductance to network motifs?', metadata={'page': 11, 'source': '/home/jovyan/work/Part 1. Langchain/../data/Network_Motifs/Higher-Order Organization of Complex Networks - Slides from 2016.pdf'}),\n",
       " Document(page_content=\"This talk: Modules of MotifsFind modules based on motifs!\\n6\\nNetwork:Motif:[Serrour, Arenas, Gomez '11]\", metadata={'page': 5, 'source': '/home/jovyan/work/Part 1. Langchain/../data/Network_Motifs/Higher-Order Organization of Complex Networks - Slides from 2016.pdf'}),\n",
       " Document(page_content='PERSP ECTIVE\\nNetwork motifs and their origins\\nLewi Stone ID\\n1,2☯*,Daniel Simberloff3☯,Yael Artzy-Randrup4,5☯\\n1Biomathe matics Unit, School ofZoology, Faculty ofLifeSciences, TelAvivUniversity, Israel,\\n2Mathemat icalSciences, School ofScience, RMIT University, Melbourne, Australia, 3Department of\\nEcology andEvolution aryBiology, University ofTennessee, Knoxville ,Tennessee, United States ofAmerica,\\n4Department ofTheoretical andComp utational Ecology, IBED, University ofAmsterda m,Amsterda m,the\\nNetherlan ds,5Institute ofAdvanced Study, University ofAmsterda m,Amsterda m,theNetherlan ds\\n☯These authors contribu tedequally tothiswork.\\n*lewisto ne100@gma il.com\\nAuthor summary\\nModern network science isanew and exciting research field that hastransformed the\\nstudy ofcomplex systems over thelast2decades. Ofparticular interest istheidentification\\nofsmall “network motifs” that might beembedded inalarger network and that indicate\\nthepresence ofevolutionary design principles orhave anoverly influential role onsys-\\ntem-wide dynamics. Motifs arepatterns ofinterconnections, orsubgraphs, that appear in\\nanobserved network significantly more often than incompatible randomized networks.\\nThe concept ofnetwork motifs wasintroduced into Systems Biology byMilo, Alon and\\ncolleagues in2002, quickly revolutionized thefield, and ithashadahuge impact inwider\\nscientific domains ever since. Here, weargue that thesame concept and tools forthe\\ndetection ofmotifs were well known intheecological literature decades into thelastcen-\\ntury, afactthat isgenerally notrecognized. Wereview theearly history ofnetwork motifs,\\ntheir evolution inthemathematics literature, and their recent rediscoveries.\\nComplex networks now feature prominently inmany aspects ofmodern science and society\\n[1–18]. Within thisstillrapidly growing discipline, there isstrong recognition that large-scale\\ndynamical properties ofanetwork aregoverned byitsmuch smaller constituent “network\\nmotifs,” and sothechief focus isoften onmotifs. Inmore technical terms, motifs may be\\ndefined as“patterns ofinterconnections (orsubgraphs) occurring incomplex networks at\\nnumbers significantly higher than those inrandomized networks” [1].Their presence indi-\\ncates theoperation ofunderlying nonrandom structural orevolutionary design principles that\\nmight have been involved inbuilding thenetwork. Inakeypaper byMilo and colleagues\\n(2002) [1]entitled “Network motifs: Simple building blocks ofcomplex networks,” theauthors\\npropose apowerful technique foridentifying nonrandom motifs that might otherwise remain\\nhidden. The ability todetect network motifs hashadfar-reaching scientific impact, and the\\narticle ofMilo, Alon and colleagues [1]and itsthree associated papers [2–4] areconsidered\\ntransformative inthefield, ascanbegauged from theapproximately 860citations they receive\\nannually. However, itisnotwell known that thevery same method used byMilo, Alon and\\ncolleagues [1]hasalong history intheecological and social sciences, asdiscussed here.\\nInpractice, motifs arise indifferent contexts with diverse forms, asseen inFig1showing a\\ncheckerboard motif used inthestudy ofecological networks [5](and discussed inmore detail\\nbelow), aclustering triangular motif used insociological and epidemiological contexts [6–9],\\nPLOS Computationa lBiology |https:/ /doi.org/10.13 71/journal.p cbi.1006749 April 11,2019 1/7a1111111111\\na1111111111\\na1111111111\\na1111111111\\na1111111111\\nOPEN ACCESS\\nCitation: Stone L,Simberlof fD,Artzy-Randr upY\\n(2019) Network motifs andtheirorigins. PLoS\\nComput Biol15(4): e1006749. https://do i.org/\\n10.1371/ journal.pcbi.10 06749\\nEditor: Ruth Nussinov, National Cancer Institute,\\nUnited States ofAmerica andTelAvivUniversity,\\nIsrael, UNITED STATES\\nPublished: April 11,2019\\nCopyright: ©2019 Stone etal.Thisisanopen\\naccess article distributed under theterms ofthe\\nCreative Commons Attribution License, which\\npermits unrestricte duse,distribu tion,and\\nreproduction inanymedium, provided theoriginal\\nauthor andsource arecredited.\\nFunding: Thesupport oftheAustralian Research\\nCommission (https://w ww.arc.gov .au/) forgrants\\nDP15102472 andDP1701023 03isgratefully\\nacknowledge d.Thefunders hadnoroleinstudy\\ndesign, datacollection andanalysis, decision to\\npublish, orpreparation ofthemanuscript\\nCompeting interests :Theauthors have declared\\nthatnocompeting interests exist', metadata={'page': 0, 'source': '/home/jovyan/work/Part 1. Langchain/../data/Network_Motifs/Network motifs and their origins.pdf'})]"
      ]
     },
     "execution_count": 119,
     "metadata": {},
     "output_type": "execute_result"
    }
   ],
   "source": [
    "retrieved_docs[0:5]"
   ]
  },
  {
   "cell_type": "markdown",
   "id": "ca44acf1-e913-4fc0-9665-4d19f7e11d72",
   "metadata": {},
   "source": [
    "# What is LangChain?\n",
    "\n",
    "#### Note: the following LangChain introduction is originally by [Ivan Reznikov](https://linkedin.com/in/rez) in [LangChain 101: Part 1. Building Simple Q&A App](https://pub.towardsai.net/langchain-101-part-1-building-simple-q-a-app-90d9c4e815f3).\n",
    "\n",
    "Today, we will discuss the following topics:\n",
    "\n",
    "* What exactly is LangChain?\n",
    "* LangChain’s fundamental concepts and components\n",
    "* How to build a basic LangChain application\n",
    "\n",
    "Lang stands for language, which is the primary focus of LangChain, and chain — the connotation of connecting things — refers to the chain component used in LangChain. Chains are sequences of instructions that the framework executes to perform a task. This simplifies the use of Large Language Models for specific tasks and enables you to combine the power of LLMs (Large Language Models) with other programming techniques.\n",
    "\n",
    "I’ve been asked how LangChain differs from ChatGPT or LLM. To answer this question, I’m attaching a table that highlights the differences:\n",
    "\n",
    "<pre><code>\n",
    "+==========+========================+====================+====================+\n",
    "|          | LangChain              | LLM                | ChatGPT            | \n",
    "+==========+========================+====================+====================+\n",
    "| Type     | Framework              | Model              | Model              | \n",
    "+----------+------------------------+--------------------+--------------------+\n",
    "| Purpose  | Build applications     | Generate text      | Generate chat      | \n",
    "|          | with LLMs              |                    | conversations      | \n",
    "+----------+------------------------+--------------------+--------------------+\n",
    "| Features | Chains, prompts, LLMs, | Large dataset of   | Large dataset of   | \n",
    "|          | memory, index, agents  | text and code      | chat conversations | \n",
    "+----------+------------------------+--------------------+--------------------+\n",
    "| Pros     | Can combine LLMs with  | Generates nearly   | Generates realistic| \n",
    "|          | programming techniques | human-quality text | chat conversations | \n",
    "+----------+------------------------+--------------------+--------------------+\n",
    "| Cons     | Requires some          | Not as easy to use | Not as versatile   | \n",
    "|          | programming knowledge  | for specific tasks | as LangChain       | \n",
    "+----------+------------------------+--------------------+--------------------+\n",
    "</code></pre>"
   ]
  },
  {
   "cell_type": "markdown",
   "id": "38fb2292-4843-483b-9596-47132d17ff62",
   "metadata": {},
   "source": [
    "## Basic components of LangChain\n",
    "\n",
    "There are six basic components of Langchain:\n",
    "\n",
    "- Models\n",
    "- Prompts\n",
    "- Chains\n",
    "- Memory\n",
    "- Indexes\n",
    "- Agents and Tools\n",
    "\n",
    "Let’s briefly talk about these components.\n",
    "\n",
    "<br />\n",
    "<center><img src=\"../images/6-langchain-components.webp\" width=\"600px\" /></center>\n",
    "\n",
    "### Models\n",
    "\n",
    "Models in LangChain are large language models (LLMs) trained on enormous amounts of massive datasets of text and code.\n",
    "\n",
    "Models are used in LangChain to generate text, answer questions, translate languages, and much more. They are also used to store information that the framework can access later.\n",
    "\n",
    "Examples: GPT-x, Bloom, Flan T5, Alpaca, LLama, Dolly, FastChat-T5, etc.\n",
    "\n",
    "<br />\n",
    "<center><img src=\"../images/langchain-models.webp\" width=\"600px\" /></center>\n",
    "\n",
    "### Prompts\n",
    "\n",
    "Prompts are pieces of text that guide the LLM to generate the desired output. Prompts can be simple or complex and can be used for text generation, translating languages, answering questions, and more.\n",
    "\n",
    "In LangChain, prompts play a vital role in controlling the output of the LLM. You can influence the LLM to generate the desired output by carefully crafting the prompt.\n",
    "\n",
    "Here are some examples of how prompts can be used:\n",
    "\n",
    "* Specify the desired output format: You can, for example, use a prompt to instruct the LLM to generate text, translate languages, or answer questions. Example: Translate the input to Arabic\n",
    "* Provide context: A prompt can provide context for the LLM, such as information about the output topic or examples of the desired output. Example: Explain the answer step-by-step like a school teacher\n",
    "* Constrain the output: You can use a prompt to limit the LLM’s output by specifying a maximum length or selecting a list of keywords to include in the output. Example: Generate a tweet post using less than 140 words\n",
    "\n",
    "<br />\n",
    "<center><img src=\"../images/langchain-prompts.webp\" width=\"600px\" /></center>\n",
    "\n",
    "### Indexes\n",
    "\n",
    "Indexes are unique data structures to store information about the data content. This information can include terms found in each document, document location in the dataset, relationships between documents, etc. Vectorstores are data structures storing vector representations of a dataset’s terms. A retriever is an interface that returns documents in response to an unstructured query. It is broader in scope than a vector store.\n",
    "\n",
    "<center><img src=\"../images/langchain-indexes.webp\" width=\"600px\" /></center>\n",
    "<br />\n",
    "\n",
    "Understanding indexes, vectorstores, and retrievers is key to building an app on your specific data. Consider another example of a chain that includes all three components:\n",
    "\n",
    "A chain is formed to answer financial questions.\n",
    "\n",
    "* The chain uses an index to find all documents that contain the word “finance.”\n",
    "* The chain uses a vectorstore to find other terms that are most similar to the word “finance” (“money,” “investments,” etc.).\n",
    "* The chain uses a retriever to retrieve the documents that are ranked highest for the query “What are ways to invest?”.\n",
    "\n",
    "### Memory\n",
    "\n",
    "Memory in LangChain is a method of storing data that the LLM can later access. This information can include previous chain results, the context of the current chain, and any other information that the LLM requires. It also enables the application to keep track of the current conversation’s context.\n",
    "\n",
    "<center><img src=\"../images/langchain-memory.webp\" width=\"600px\" /></center>\n",
    "<br />\n",
    "\n",
    "Memory plays a vital role in LangChain, allowing the LLM to learn from previous interactions and build up a knowledge base. This knowledge base can then be used to improve the performance of future chains.\n",
    "\n",
    "Consider the creation of a chain designed to answer real estate-related questions. The chain may use memory to store the results of previous chains that have responded to real estate questions. When the chain asked a new question about a similar topic, this information could be used to improve its performance.\n",
    "\n",
    "### Chains\n",
    "\n",
    "Chains are sequences of instructions the LangChain framework executes to perform a task. Chains may connect other LangChain components based on the application requirements. They allow the framework to perform a wide variety of tasks.\n",
    "\n",
    "<center><img src=\"../images/langchain-chains.webp\" width=\"600px\" /></center>\n",
    "<br />\n",
    "\n",
    "Assume we’re creating an app to assist us in interview preparation:\n",
    "\n",
    "* Prompt: “I’m getting ready for an interview for a position as a software engineer. Can you ask me some common interview questions that I may expect?”\n",
    "* Function A: This function would access the LLM’s knowledge of the software engineering field, such as its knowledge of common interview questions for software engineers. It can also look for appropriate data in the vectorstore.\n",
    "* Function B: This function would manipulate data, such as generating a list of common interview questions for software engineers or a list of resources to help the student prepare for the interview. It will select a question and ask it.\n",
    "* Memory: some follow-up questions might be asked to help better understand the knowledge of the chosen topic. Memory implementation will allow the chain to keep the context of the conversation.\n",
    " \n",
    "### Agents and Tools\n",
    "\n",
    "Agents and tools are two important concepts in LangChain.\n",
    "\n",
    "<center><img src=\"../images/langchain-agents-tools.webp\" width=\"600px\" /></center>\n",
    "<br />\n",
    "\n",
    "Agents are reusable components that can perform specific tasks such as text generation, language translation, and question-answering. Tools are function libraries that can be used to aid in developing various agents.\n",
    "\n",
    "Examples:\n",
    "\n",
    "* NewsGenerator agent — for generating news articles or headlines.\n",
    "* DataManipulator tool — for manipulating data (cleaning, transforming, or extracting features).\n",
    "* Application. Building a Q&A system.\n",
    "* Colab and Github links.\n",
    "\n",
    "Let’s build a Q&A system to answer our questions regarding official holidays in the United Arab Emirates. Based on the components we’ve learned, we can draw a schema similar to the following one below:\n",
    "\n",
    "First, we install all dependencies. Some of the versions might be updated, but installing a specific version will resolve most, if not all, inner dependencies.\n",
    "\n",
    "### Application. Explaining LangChain by Building a Q&A system.\n",
    "\n",
    "Let’s build a Q&A system to answer our questions regarding official holidays in the United Arab Emirates. Based on the components we’ve learned, we can draw a schema similar to the following one below:\n",
    "\n",
    "<center><img src=\"../images/langchain-q-and-a.webp\" width=\"600px\" /></center>\n",
    "<br />\n",
    "\n",
    "Note that all dependencies are provided on the Docker image via [`Dockerfile`](Dockerfile) and [`docker-compose.yml`](docker-compose.yml). Some of the versions might be updated, but installing a specific version will resolve most, if not all, inner dependencies."
   ]
  },
  {
   "cell_type": "code",
   "execution_count": null,
   "id": "44c5d486-2db3-41cf-aabb-164e6b8b7689",
   "metadata": {},
   "outputs": [],
   "source": []
  },
  {
   "cell_type": "code",
   "execution_count": null,
   "id": "6bfd8e8d-de0e-48ec-83ed-2f6412ac9571",
   "metadata": {},
   "outputs": [],
   "source": []
  },
  {
   "cell_type": "markdown",
   "id": "1d91e017-586a-4d95-8653-69254d28eba5",
   "metadata": {},
   "source": [
    "## OpenAI Text Models\n",
    "\n",
    "You can see the OpenAI models available through their APIs at [https://platform.openai.com/docs/models/](https://platform.openai.com/docs/models/)."
   ]
  },
  {
   "cell_type": "code",
   "execution_count": 120,
   "id": "79af1c6f-7f20-44a5-8bd6-8928144991db",
   "metadata": {},
   "outputs": [
    {
     "data": {
      "text/plain": [
       "'A simple network motif refers to a recurring pattern or subgraph that occurs frequently in a network. These motifs typically involve a small number of nodes and edges and can have specific functions or structural properties within the network. Examples of simple network motifs include feed-forward loops, feedback loops, and bipartite motifs.'"
      ]
     },
     "execution_count": 120,
     "metadata": {},
     "output_type": "execute_result"
    }
   ],
   "source": [
    "from langchain.chains import LLMChain\n",
    "from langchain.prompts import PromptTemplate\n",
    "\n",
    "# llm = OpenAI(temperature=0.8, model=\"text-davinci-003\")\n",
    "llm = ChatOpenAI(temperature=0.8, model=\"gpt-3.5-turbo-16k\")\n",
    "\n",
    "template = \"\"\"Question: {question}\n",
    "\n",
    "Answer: Let's give a concise answer using our science skills.\"\"\"\n",
    "\n",
    "prompt = PromptTemplate(template=template, input_variables=[\"question\"])\n",
    "\n",
    "llm_chain = LLMChain(prompt=prompt, llm=llm)\n",
    "\n",
    "question = \"What is a simple network motif?\"\n",
    "\n",
    "llm_chain.run(question)"
   ]
  },
  {
   "cell_type": "code",
   "execution_count": 121,
   "id": "a54050b6-2077-4fc3-b092-f378f9cb4d67",
   "metadata": {},
   "outputs": [],
   "source": [
    "from langchain.chains import LLMChain\n",
    "from langchain.prompts import PromptTemplate\n",
    "from langchain.chat_models import ChatOpenAI"
   ]
  },
  {
   "cell_type": "code",
   "execution_count": 122,
   "id": "c51fd10c-3187-46b3-ad80-cffd87e43230",
   "metadata": {},
   "outputs": [],
   "source": [
    "llm = ChatOpenAI(temperature=0.8, model=\"gpt-3.5-turbo-16k\")"
   ]
  },
  {
   "cell_type": "code",
   "execution_count": 123,
   "id": "6f00ac98-1b5b-4700-b720-22c9d2804531",
   "metadata": {},
   "outputs": [],
   "source": [
    "template = \"\"\"Question: {question}\n",
    "\n",
    "Answer: Let's give a concise answer using our science skills.\"\"\"\n",
    "\n",
    "prompt = PromptTemplate(template=template, input_variables=[\"question\"])"
   ]
  },
  {
   "cell_type": "code",
   "execution_count": 124,
   "id": "bd528baf-cd40-43f4-aa10-9bbdbe7d5e9a",
   "metadata": {},
   "outputs": [],
   "source": [
    "llm_chain = LLMChain(prompt=prompt, llm=llm)"
   ]
  },
  {
   "cell_type": "code",
   "execution_count": 125,
   "id": "8e271d60-be21-4933-97ca-35ac027a2fd2",
   "metadata": {},
   "outputs": [
    {
     "data": {
      "text/plain": [
       "'A simple network motif refers to a recurring pattern or structure found in a network or graph. It typically involves a small set of connected nodes and their interactions. These motifs can provide insights into the underlying principles and dynamics of complex networks, such as biological systems or social networks. Simple network motifs often represent fundamental building blocks that contribute to the overall behavior and function of the larger network.'"
      ]
     },
     "execution_count": 125,
     "metadata": {},
     "output_type": "execute_result"
    }
   ],
   "source": [
    "question = \"What is a simple network motif?\"\n",
    "\n",
    "llm_chain.run(question)"
   ]
  },
  {
   "cell_type": "code",
   "execution_count": null,
   "id": "76c5cf1a-ab4f-4e2c-880c-5abcfd322a1b",
   "metadata": {},
   "outputs": [],
   "source": []
  }
 ],
 "metadata": {
  "kernelspec": {
   "display_name": "Python 3 (ipykernel)",
   "language": "python",
   "name": "python3"
  },
  "language_info": {
   "codemirror_mode": {
    "name": "ipython",
    "version": 3
   },
   "file_extension": ".py",
   "mimetype": "text/x-python",
   "name": "python",
   "nbconvert_exporter": "python",
   "pygments_lexer": "ipython3",
   "version": "3.10.11"
  }
 },
 "nbformat": 4,
 "nbformat_minor": 5
}
